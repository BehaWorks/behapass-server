{
 "cells": [
  {
   "cell_type": "code",
   "execution_count": 1,
   "metadata": {
    "collapsed": true,
    "pycharm": {
     "is_executing": false
    }
   },
   "outputs": [],
   "source": [
    "import pandas as pd\n",
    "from server.db.test_mongo import TestMongo\n",
    "from server.views.api import get_model\n",
    "from server.db import create_db\n",
    "from sklearn.metrics import accuracy_score, f1_score, confusion_matrix"
   ]
  },
  {
   "cell_type": "code",
   "execution_count": 2,
   "outputs": [
    {
     "name": "stdout",
     "text": [
      "Index(['velocity_average', 'velocity_median', 'velocity_minimum',\n       'velocity_maximum', 'velocity_std_dev', 'velocity_iqr',\n       'acceleration_average', 'acceleration_median', 'acceleration_minimum',\n       'acceleration_maximum', 'acceleration_std_dev', 'acceleration_iqr',\n       'jerk_average', 'jerk_median', 'jerk_minimum', 'jerk_maximum',\n       'jerk_std_dev', 'jerk_iqr', 'angular_velocity_average',\n       'angular_velocity_median', 'angular_velocity_minimum',\n       'angular_velocity_maximum', 'angular_velocity_std_dev',\n       'angular_velocity_iqr', 'device_distance_average',\n       'device_distance_median', 'device_distance_minimum',\n       'device_distance_maximum', 'device_distance_std_dev',\n       'device_distance_iqr'],\n      dtype='object')\n"
     ],
     "output_type": "stream"
    }
   ],
   "source": [
    "db = create_db(TestMongo())\n",
    "model = get_model()"
   ],
   "metadata": {
    "collapsed": false,
    "pycharm": {
     "name": "#%%\n",
     "is_executing": false
    }
   }
  },
  {
   "cell_type": "code",
   "execution_count": 3,
   "outputs": [],
   "source": [
    "y_true = []\n",
    "y_pred = []\n",
    "for i in db.get_all_metrix_test():\n",
    "    df = pd.DataFrame.from_records(i, index=[\"user_id\"])\n",
    "    df = df.drop(\"_id\", axis=\"columns\")\n",
    "    df = df.drop(\"user_id\", axis=\"columns\")\n",
    "    #df = df.drop(\"session_id\", axis=\"columns\")\n",
    "    result = model.search(df.to_numpy(\"float32\"), 1)\n",
    "    if len(result) > 0:\n",
    "        y_true.append(i[\"user_id\"])\n",
    "        y_pred.append(result[0][\"user_id\"])"
   ],
   "metadata": {
    "collapsed": false,
    "pycharm": {
     "name": "#%%\n",
     "is_executing": false
    }
   }
  },
  {
   "cell_type": "code",
   "execution_count": 4,
   "outputs": [],
   "source": [
    "a_kuracy = accuracy_score(y_true=y_true, y_pred=y_pred)\n",
    "efjedna_mikro = f1_score(y_true=y_true, y_pred=y_pred, average=\"micro\")\n",
    "efjedna_makro = f1_score(y_true=y_true, y_pred=y_pred, average=\"macro\")\n",
    "matica = confusion_matrix(y_true=y_true, y_pred=y_pred)"
   ],
   "metadata": {
    "collapsed": false,
    "pycharm": {
     "name": "#%%\n",
     "is_executing": false
    }
   }
  },
  {
   "cell_type": "code",
   "execution_count": 5,
   "outputs": [],
   "source": [
    "#nieco = list(db.get_all_metrix_test())\n"
   ],
   "metadata": {
    "collapsed": false,
    "pycharm": {
     "name": "#%%\n",
     "is_executing": false
    }
   }
  }
 ],
 "metadata": {
  "kernelspec": {
   "display_name": "Python 3",
   "language": "python",
   "name": "python3"
  },
  "language_info": {
   "codemirror_mode": {
    "name": "ipython",
    "version": 2
   },
   "file_extension": ".py",
   "mimetype": "text/x-python",
   "name": "python",
   "nbconvert_exporter": "python",
   "pygments_lexer": "ipython2",
   "version": "2.7.6"
  },
  "pycharm": {
   "stem_cell": {
    "cell_type": "raw",
    "source": [],
    "metadata": {
     "collapsed": false
    }
   }
  }
 },
 "nbformat": 4,
 "nbformat_minor": 0
}